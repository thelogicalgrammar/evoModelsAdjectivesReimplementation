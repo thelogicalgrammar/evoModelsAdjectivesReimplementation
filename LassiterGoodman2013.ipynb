{
 "cells": [
  {
   "cell_type": "code",
   "execution_count": 255,
   "metadata": {},
   "outputs": [],
   "source": [
    "import numpy as np\n",
    "from scipy import stats, special, integrate\n",
    "import matplotlib.pyplot as plt\n",
    "import seaborn as sns"
   ]
  },
  {
   "cell_type": "markdown",
   "metadata": {},
   "source": [
    "## Model"
   ]
  },
  {
   "cell_type": "markdown",
   "metadata": {},
   "source": [
    "Full model:\n",
    "\n",
    "\\begin{align}\n",
    "P_{L_1} ( A, \\theta_{tall}, \\theta_{short} \\mid u ) & \\propto P_{S_1} ( u \\mid A, \\theta_{tall}, \\theta_{short} ) P_{L_1} (A) p(\\theta_{tall}) p(\\theta_{short}) \\\\\n",
    "P_{S_1} ( u \\mid A, \\theta_{tall}, \\theta_{short} ) & = \\frac{e^{ \\alpha (\\log ( P_{L_0} (A \\mid u, \\theta_{tall}, \\theta_{short} ) ) - C(u) ) }}{\\sum_u e^{ \\alpha ( \\log ( P_{L_0} (A \\mid u, \\theta_{tall}, \\theta_{short} ) ) - C(u) ) }}\n",
    "\\\\\n",
    "P_{L_0} ( A \\mid u, \\theta_{tall}, \\theta_{short} ) & = P_{L_0} ( A \\mid [u]^{\\theta_{tall}, \\theta_{short} } = 1 )\n",
    "\\end{align}"
   ]
  },
  {
   "cell_type": "markdown",
   "metadata": {},
   "source": [
    "Simplification:\n",
    "\n",
    "$$\n",
    "e^{ \\alpha \\log ( P_{L_0} (A \\mid u, \\theta_{tall}, \\theta_{short} ) ) - \\alpha C(u) } \\\\\n",
    "= e^{ \\log ( P_{L_0} (A \\mid u, \\theta_{tall}, \\theta_{short} )^{\\alpha} ) } e^{- \\alpha C(u)} \\\\\n",
    "= P_{L_0} (A \\mid u, \\theta_{tall}, \\theta_{short} )^{\\alpha}  e^{- \\alpha C(u)}\n",
    "$$"
   ]
  },
  {
   "cell_type": "markdown",
   "metadata": {},
   "source": [
    "- $P_{L_0} ( A \\mid [u]^{\\theta_{tall}} = 1 )$ is the integral from $\\theta_{tall}$ to $\\infty$ of $P(A)$\n",
    "- $P_{L_0} ( A \\mid [u]^{\\theta_{short}} = 1 )$ is the integral from $-\\infty$ to $\\theta_{tall}$ of $P(A)$\n",
    "- $\\alpha = 4$\n",
    "- Alternative utterances: {$A_{pos}$, $A_{neg}$, silence}\n",
    "- $P(\\theta_A)$ is uniform in [0, 1] for any adjective A\n",
    "- $C(u) = 2/3 \\times length(u)$. This means: C(silence) = 0, C(tall, short) = 2\n",
    "- For relative standard adjectives: $P(A) = N(0.5, 0.15) $ truncated in [0,1]\n",
    "- $p(\\theta_{tall})$ and $p(\\theta_{short})$ are uniform in the unit interval"
   ]
  },
  {
   "cell_type": "code",
   "execution_count": 152,
   "metadata": {},
   "outputs": [],
   "source": [
    "def pragmatic_listener(degree, theta_short, theta_tall, prior_A, alpha=4, index_signal=1):\n",
    "    \"\"\"\n",
    "    Return a tuple with the (unnormalized) probability of that combination of input parameters \n",
    "    given sent signals [short, tall].\n",
    "    \"\"\"\n",
    "    \n",
    "    cost_silence = 0\n",
    "    cost_tall = 4/3\n",
    "    cost_short = 4/3\n",
    "    \n",
    "    # probability of degree for literal listener if thetas are as input\n",
    "    p_L0_short = prior_A.pdf(degree) / prior_A.cdf(theta_short) if degree < theta_short else 0.\n",
    "    p_L0_tall = prior_A.pdf(degree) / prior_A.sf(theta_tall) if degree > theta_tall else 0.\n",
    "    p_L0_silence = prior_A.pdf(degree)\n",
    "    \n",
    "    unnorm_p_s1_short = (p_L0_short ** alpha) * np.exp(-alpha*cost_short)\n",
    "    unnorm_p_s1_tall = (p_L0_tall ** alpha) * np.exp(-alpha*cost_tall)\n",
    "    unnorm_p_s1_silence = (p_L0_silence ** alpha) * np.exp(-alpha*cost_silence)\n",
    "    \n",
    "    s1_normalization_constant = unnorm_p_s1_short + unnorm_p_s1_tall + unnorm_p_s1_silence\n",
    "    \n",
    "    # probability for listener of that combination of degree, theta_tall, and theta_short\n",
    "    # given the two possible signals \"short\" and \"tall\"\n",
    "    l_1 = np.array(\n",
    "        [unnorm_p_s1_short, unnorm_p_s1_tall, unnorm_p_s1_silence]) / s1_normalization_constant * prior_A.pdf(degree)\n",
    "\n",
    "    return l_1[index_signal]"
   ]
  },
  {
   "cell_type": "markdown",
   "metadata": {},
   "source": [
    "## Rough and ready MCMC"
   ]
  },
  {
   "cell_type": "code",
   "execution_count": 267,
   "metadata": {},
   "outputs": [],
   "source": [
    "def MCMC(prior_property, index_signal):\n",
    "    \"\"\"\n",
    "    Arguments\n",
    "    ---------\n",
    "    index_signal: int\n",
    "        0 for \"short\" and 1 for \"tall\"\n",
    "    \"\"\"\n",
    "    \n",
    "    point = np.array([0.5, 0.5, 0.5])\n",
    "    point_prob = pragmatic_listener(*point, prior_property, alpha=4, index_signal=index_signal)\n",
    "    \n",
    "    samples = []\n",
    "    for i in range(500000):\n",
    "        \n",
    "        while True:\n",
    "            proposal = np.random.normal(loc=point, scale=0.01)\n",
    "            if np.all((proposal > 0) & (proposal < 1)):\n",
    "                break\n",
    "        \n",
    "        proposal_prob = pragmatic_listener(*proposal, prior_property, alpha=4, index_signal=index_signal)\n",
    "        \n",
    "        acceptance_ratio = proposal_prob / point_prob\n",
    "        \n",
    "        if np.random.uniform() <= acceptance_ratio:\n",
    "            point = proposal\n",
    "            point_prob = proposal_prob\n",
    "            \n",
    "        samples.append(point)\n",
    "            \n",
    "    return np.array(samples)"
   ]
  },
  {
   "cell_type": "markdown",
   "metadata": {},
   "source": [
    "# Figures"
   ]
  },
  {
   "cell_type": "code",
   "execution_count": 327,
   "metadata": {},
   "outputs": [],
   "source": [
    "def draw(results, adj_name, index_signal_to_plot, ax, prior_property, burn_in=1000):\n",
    "    \"\"\"\n",
    "    Arguments\n",
    "    ---------\n",
    "    results: array\n",
    "        Array containing the results of the MCMC run from function above.\n",
    "    adj_name: str\n",
    "        String with the name of the signal. E.g. \"tall\" or \"short\"\n",
    "    index_signal_to_plot: int\n",
    "        1 for negative adjective and 2 for positive adjective\n",
    "    ax: plt ax object\n",
    "        Ax on which to plot results\n",
    "    prior_property: scipy dist object\n",
    "        As long as it has a pdf method, it's all good\n",
    "    burn_in: int\n",
    "        Number of initial MCMC samples to discard\n",
    "        \n",
    "    Returns\n",
    "    -------\n",
    "    None\n",
    "    \"\"\"\n",
    "    \n",
    "    sample_degree, to_plot = results.T[(0, index_signal_to_plot),:]\n",
    "\n",
    "    sns.kdeplot(\n",
    "        sample_degree[burn_in:], \n",
    "        color=\"blue\", \n",
    "        clip=(0,1), \n",
    "        label=\"$p($ degree $\\mid$ \\\"{}\\\" $)$\".format(adj_name), \n",
    "        ax=ax\n",
    "    )\n",
    "    # CAREFUL TO PLOT THE SIGNAL THAT YOU RUN THE MCMC FOR!\n",
    "    sns.kdeplot(\n",
    "        to_plot[burn_in:], \n",
    "        color=\"green\", \n",
    "        clip=(0,1), \n",
    "        label=\"$p($ transition $\\mid$ \\\"{}\\\" $)$\".format(adj_name), \n",
    "        ax=ax\n",
    "    )\n",
    "\n",
    "    xs = np.linspace(0, 1, 1000)\n",
    "    ys = prior_property.pdf(xs)\n",
    "    ax.plot(xs, ys, color=\"red\", label=\"$p($ degree $)$\")\n",
    "\n",
    "    legend = ax.legend(fontsize=\"small\")\n",
    "    legend_frame = legend.get_frame()\n",
    "    legend_frame.set_facecolor(\"white\")\n",
    "    ax.set_xlabel(\"Degrees\")\n",
    "    ax.set_ylabel(\"Density\")\n",
    "\n",
    "    for text in [\"top\", \"left\", \"right\"]:\n",
    "        ax.spines[text].set_visible(False)\n",
    "    ax.set_yticks([])"
   ]
  },
  {
   "cell_type": "markdown",
   "metadata": {},
   "source": [
    "### Figure 1. & left part of Figure 2 (for thesis)"
   ]
  },
  {
   "cell_type": "code",
   "execution_count": 301,
   "metadata": {},
   "outputs": [],
   "source": [
    "#### RELATIVE ADJECTIVE'S DISTRIBUTION (FIG. 1)\n",
    "myclip_a = 0\n",
    "myclip_b = 1\n",
    "my_mean = 0.5\n",
    "my_std = 0.15\n",
    "a, b = (myclip_a - my_mean) / my_std, (myclip_b - my_mean) / my_std\n",
    "prior_property_tall = stats.truncnorm(a=a, b=b, loc=my_mean, scale=my_std)\n",
    "\n",
    "results_relative_tall = MCMC(prior_property, index_signal=1)"
   ]
  },
  {
   "cell_type": "code",
   "execution_count": 302,
   "metadata": {},
   "outputs": [],
   "source": [
    "#### HALF-OPEN SCALE ADJECTIVE'S DISTRIBUTION (FIG. 2)\n",
    "prior_property_dangerous = stats.beta(a=1, b=9)\n",
    "\n",
    "results_absolute_dangerous = MCMC(prior_property, index_signal=1)"
   ]
  },
  {
   "cell_type": "code",
   "execution_count": 331,
   "metadata": {},
   "outputs": [
    {
     "data": {
      "image/png": "[encoded data removed]",
      "text/plain": [
       "<Figure size 410.976x246.586 with 2 Axes>"
      ]
     },
     "metadata": {
      "needs_background": "light"
     },
     "output_type": "display_data"
    }
   ],
   "source": [
    "fig, (ax1, ax2) = plt.subplots(1,2)\n",
    "\n",
    "draw(results_relative_tall, \"tall\", 2, ax1, prior_property_tall)\n",
    "draw(results_absolute_dangerous, \"dangerous\", 2, ax2, prior_property_dangerous)\n",
    "\n",
    "ax1.set_ylim(0,7)\n",
    "ax2.set_ylim(0, 10)\n",
    "\n",
    "w = 5.708\n",
    "fig.set_size_inches(w, w*0.6)\n",
    "plt.savefig(\"lassiterGoodman2013.png\", dpi=300)"
   ]
  },
  {
   "cell_type": "markdown",
   "metadata": {},
   "source": [
    "### Figure 3"
   ]
  },
  {
   "cell_type": "code",
   "execution_count": 174,
   "metadata": {},
   "outputs": [],
   "source": [
    "### CLOSED SCALE (FIG. 3)\n",
    "prior_property = stats.uniform()"
   ]
  },
  {
   "cell_type": "markdown",
   "metadata": {},
   "source": [
    "### Figure 4"
   ]
  },
  {
   "cell_type": "code",
   "execution_count": null,
   "metadata": {},
   "outputs": [],
   "source": [
    "#### SOME PRESSURE (FIG. 4)\n",
    "myclip_a = 0\n",
    "myclip_b = 1\n",
    "my_mean = 0.25\n",
    "my_std = 0.15\n",
    "a, b = (myclip_a - my_mean) / my_std, (myclip_b - my_mean) / my_std\n",
    "prior_property = stats.truncnorm(a=a, b=b, loc=my_mean, scale=my_std)"
   ]
  }
 ],
 "metadata": {
  "kernelspec": {
   "display_name": "Python [conda env:computational_models] *",
   "language": "python",
   "name": "conda-env-computational_models-py"
  },
  "language_info": {
   "codemirror_mode": {
    "name": "ipython",
    "version": 3
   },
   "file_extension": ".py",
   "mimetype": "text/x-python",
   "name": "python",
   "nbconvert_exporter": "python",
   "pygments_lexer": "ipython3",
   "version": "3.7.3"
  }
 },
 "nbformat": 4,
 "nbformat_minor": 2
}
