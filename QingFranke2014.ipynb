{
 "cells": [
  {
   "cell_type": "code",
   "execution_count": 95,
   "metadata": {},
   "outputs": [],
   "source": [
    "import numpy as np\n",
    "from scipy import stats, special, integrate\n",
    "import matplotlib.pyplot as plt\n",
    "import seaborn as sns"
   ]
  },
  {
   "cell_type": "markdown",
   "metadata": {},
   "source": [
    "# Qing & Franke (2014)\n",
    "\n",
    "## General stuff about model"
   ]
  },
  {
   "cell_type": "markdown",
   "metadata": {},
   "source": [
    "- $\\phi (h)$ is the distribution of $h$ in the comparison class (prior)\n",
    "- $\\Theta$ is the threshold for \"tall\"\n",
    "- $\\phi (h \\mid u_0, \\Theta) = \\phi(h)$\n",
    "- $\\phi (h \\mid u_1, \\Theta) = \\phi(h \\mid h \\geq \\Theta) $, i.e. the survival function of $\\phi$ at $\\Theta$, if $h\\geq$ and 0 otherwise"
   ]
  },
  {
   "cell_type": "markdown",
   "metadata": {},
   "source": [
    "Expected communicative success:\n",
    "\\begin{align}\n",
    "ES(\\Theta) & = \\int_{-\\infty}^{\\Theta} \\phi (h) \\phi (h \\mid u_0, \\Theta) dh + \\int_{\\Theta}^{\\infty} \\phi (h) \\phi (h \\mid u_1, \\Theta) dh \\\\\n",
    "& = \\int_{-\\infty}^{\\Theta} \\phi (h)^2 dh + \\int_{\\Theta}^{\\infty} \\phi (h) \\frac{\\phi(h)}{ \\int_{\\Theta}^{\\infty} \\phi (h) dh} dh \\\\\n",
    "& = \\int_{-\\infty}^{\\Theta} \\phi (h)^2 dh + \\frac{1}{ \\int_{\\Theta}^{\\infty} \\phi (h) dh} \\int_{\\Theta}^{\\infty} \\phi(h)^2 dh\n",
    "\\end{align}\n",
    "\n",
    "Calculate utility:\n",
    "\n",
    "\\begin{align}\n",
    "U(\\Theta) & = ES(\\Theta) - c \\int_{\\Theta}^{\\infty} \\phi(h) dh \\\\\n",
    "& = \\int_{-\\infty}^{\\Theta} \\phi (h)^2 dh + \\frac{1}{ \\int_{\\Theta}^{\\infty} \\phi (h) dh} \\int_{\\Theta}^{\\infty} \\phi(h)^2 dh  - c \\int_{\\Theta}^{\\infty} \\phi(h) dh\n",
    "\\end{align}\n",
    "\n",
    "Now the probability of production:\n",
    "$$\n",
    "Pr(\\Theta) \\propto e^{\\lambda U(\\Theta)} \n",
    "$$\n",
    "\n",
    "Probability of using positive form given an observed height $h_0$:\n",
    "$$\n",
    "\\sigma (u_1 \\mid h_0, Pr) = \\int_{-\\infty}^{h_0} Pr(\\Theta) d\\Theta\n",
    "$$\n",
    "\n",
    "Understanding, i.e. distribution over degrees given signal:\n",
    "$$\n",
    "\\rho (h \\mid u_1) \\propto \\phi(h) \\sigma ( u_1 \\mid h, Pr )\n",
    "$$"
   ]
  },
  {
   "cell_type": "markdown",
   "metadata": {},
   "source": [
    "## Specifically for Beta distribution. \n",
    "\n",
    "Start by considering the Chebyshev integral: http://mathworld.wolfram.com/ChebyshevIntegral.html:\n",
    "$$\n",
    "\\int x^{p} (1-x)^q dx = B(x; 1+p, 1+q)\n",
    "$$\n",
    "\n",
    "I am interested in the integral of the square of the beta density:\n",
    "$$\n",
    "\\int_0^\\Theta \\left( \\frac{1}{B(\\alpha, \\beta)} x^{\\alpha-1} (1-x)^{\\beta-1} \\right)^2 dx \\\\\n",
    "= \\frac{1}{B(\\alpha, \\beta)^2} \\int_0^\\Theta x^{2\\alpha-2} (1-x)^{2\\beta-2} dx \\\\\n",
    "$$"
   ]
  },
  {
   "cell_type": "markdown",
   "metadata": {},
   "source": [
    "Putting the two things together:\n",
    "$$\n",
    "\\frac{1}{B(\\alpha, \\beta)^2} \\int_0^\\Theta x^{2\\alpha-2} (1-x)^{2\\beta-2} dx = \\frac{B(x; 2\\alpha-1, 2\\beta-1)}{B(\\alpha, \\beta)^2}\n",
    "$$\n",
    "Check numerically that they are actually the same:"
   ]
  },
  {
   "cell_type": "code",
   "execution_count": 25,
   "metadata": {},
   "outputs": [
    {
     "name": "stdout",
     "output_type": "stream",
     "text": [
      "4.713713169744543\n",
      "4.713713169744545\n"
     ]
    }
   ],
   "source": [
    "theta = 0.1\n",
    "alpha, beta = 2,21\n",
    "\n",
    "func = lambda x: (x**(2 * alpha - 2)) * ((1-x)**(2*beta - 2))\n",
    "\n",
    "print(quad(func, 0, theta)[0] / (special.beta(alpha, beta)**2))\n",
    "\n",
    "print((special.betainc(2*alpha-1, 2*beta-1, theta) * special.beta(2*alpha-1, 2*beta-1))/ (special.beta(alpha, beta)**2))"
   ]
  },
  {
   "cell_type": "markdown",
   "metadata": {},
   "source": [
    "Next, I need it from $\\Theta$ to 1:\n",
    "$$\n",
    "\\frac{1}{B(\\alpha, \\beta)^2} \\int_\\Theta^1 x^{2\\alpha-2} (1-x)^{2\\beta-2} dx \\\\\n",
    "= \\frac{1}{B(\\alpha, \\beta)^2} \\left( \\int_0^1 x^{2\\alpha-2} (1-x)^{2\\beta-2} dx - \\int_0^\\Theta x^{2\\alpha-2} (1-x)^{2\\beta-2} dx \\right) \\\\\n",
    "= \\frac{B(2 \\alpha-1, 2\\beta-1) - B(x; 2\\alpha-1, 2\\beta-1)}{B(\\alpha, \\beta)^2} \n",
    "$$\n",
    "\n",
    "In sum, when the property has a beta distribution:\n",
    "$$\n",
    "U(\\Theta) = \\frac{B(\\Theta; 2\\alpha-1, 2\\beta-1)}{B(\\alpha, \\beta)^2} + \\frac{B(2 \\alpha-1, 2\\beta-1) - B(\\Theta; 2\\alpha-1, 2\\beta-1)}{(1-I_\\Theta (\\alpha, \\beta)) B(\\alpha, \\beta)^2} - c (1-I_\\Theta (\\alpha, \\beta))\n",
    "$$"
   ]
  },
  {
   "cell_type": "code",
   "execution_count": 182,
   "metadata": {},
   "outputs": [],
   "source": [
    "def U(theta, alpha, beta, cost):\n",
    "    incomplete_beta_for_cdf = special.betainc(2*alpha-1, 2*beta-1, theta) * special.beta(2*alpha-1, 2*beta-1)\n",
    "    beta_for_cdf = special.beta(2*alpha-1, 2*beta-1)\n",
    "    beta_squared = special.beta(alpha, beta)**2\n",
    "    survival = 1 - special.betainc(alpha, beta, theta)\n",
    "    \n",
    "    first_term = incomplete_beta_for_cdf / beta_squared\n",
    "    second_term = (beta_for_cdf - incomplete_beta_for_cdf)/(survival * beta_squared)\n",
    "    third_term = cost * survival\n",
    "    return first_term + second_term - third_term\n",
    "\n",
    "def unnorm_pr(theta, alpha, beta, cost, lamb):\n",
    "    return np.exp(lamb * U(theta, alpha, beta, cost))"
   ]
  },
  {
   "cell_type": "markdown",
   "metadata": {},
   "source": [
    "### Figure 3"
   ]
  },
  {
   "cell_type": "code",
   "execution_count": 214,
   "metadata": {},
   "outputs": [],
   "source": [
    "def move_legend(leg, ax, x_offset):\n",
    "    # Get the bounding box of the original legend\n",
    "    bb = leg.get_bbox_to_anchor().inverse_transformed(ax.transAxes)\n",
    "\n",
    "    # Change to location of the legend. \n",
    "    bb.x0 += x_offset\n",
    "    bb.x1 += x_offset\n",
    "    leg.set_bbox_to_anchor(bb, transform = ax.transAxes)"
   ]
  },
  {
   "cell_type": "code",
   "execution_count": 219,
   "metadata": {},
   "outputs": [
    {
     "name": "stderr",
     "output_type": "stream",
     "text": [
      "C:\\Users\\s1569804\\AppData\\Local\\Continuum\\anaconda3\\envs\\computational_models\\lib\\site-packages\\ipykernel_launcher.py:24: IntegrationWarning: The occurrence of roundoff error is detected, which prevents \n",
      "  the requested tolerance from being achieved.  The error may be \n",
      "  underestimated.\n",
      "C:\\Users\\s1569804\\AppData\\Local\\Continuum\\anaconda3\\envs\\computational_models\\lib\\site-packages\\ipykernel_launcher.py:24: IntegrationWarning: The occurrence of roundoff error is detected, which prevents \n",
      "  the requested tolerance from being achieved.  The error may be \n",
      "  underestimated.\n",
      "C:\\Users\\s1569804\\AppData\\Local\\Continuum\\anaconda3\\envs\\computational_models\\lib\\site-packages\\ipykernel_launcher.py:2: RuntimeWarning: divide by zero encountered in double_scalars\n",
      "  \n",
      "C:\\Users\\s1569804\\AppData\\Local\\Continuum\\anaconda3\\envs\\computational_models\\lib\\site-packages\\ipykernel_launcher.py:3: RuntimeWarning: divide by zero encountered in double_scalars\n",
      "  This is separate from the ipykernel package so we can avoid doing imports until\n",
      "C:\\Users\\s1569804\\AppData\\Local\\Continuum\\anaconda3\\envs\\computational_models\\lib\\site-packages\\ipykernel_launcher.py:5: RuntimeWarning: invalid value encountered in double_scalars\n",
      "  \"\"\"\n",
      "C:\\Users\\s1569804\\AppData\\Local\\Continuum\\anaconda3\\envs\\computational_models\\lib\\site-packages\\ipykernel_launcher.py:3: RuntimeWarning: invalid value encountered in double_scalars\n",
      "  This is separate from the ipykernel package so we can avoid doing imports until\n"
     ]
    },
    {
     "data": {
      "image/png": "[encoded data removed]",
      "text/plain": [
       "<Figure size 410.976x246.586 with 2 Axes>"
      ]
     },
     "metadata": {
      "needs_background": "light"
     },
     "output_type": "display_data"
    }
   ],
   "source": [
    "fig, (ax1, ax2) = plt.subplots(1,2)\n",
    "\n",
    "# left plot\n",
    "\n",
    "# cost, alpha, beta, lamb, polarity\n",
    "par_sets = np.array([\n",
    "    [2, 3, 7, 4, 1],\n",
    "    [2, 7, 3, 4, 0],\n",
    "    [0, 3, 7, 4, 1],\n",
    "    [0, 7, 3, 4, 0]\n",
    "])\n",
    "\n",
    "colors = [\"blue\", \"green\", \"red\", \"orange\"]\n",
    "labels = [\"$Pr(\\Theta_{+} \\mid c=2)$\", \n",
    "          \"$Pr(\\Theta_{-} \\mid c=2)$\",\n",
    "          \"$Pr(\\Theta_{+} \\mid c=0)$\",\n",
    "          \"$Pr(\\Theta_{-} \\mid c=0)$\"]\n",
    "\n",
    "for index, parameter_set in enumerate(par_sets):\n",
    "    cost, alpha, beta, lamb, polarity = parameter_set\n",
    "    func = lambda theta: unnorm_pr(theta, alpha, beta, cost, lamb)\n",
    "    # xs = np.linspace(0,1,1000)[1:-1]\n",
    "    # ys_grid = [func(x) for x in xs]\n",
    "    norm_const = integrate.quad(func, 0.0, 0.996, limit=1000, points=(0,1))[0]\n",
    "\n",
    "    xs = np.linspace(0,0.99,1000)\n",
    "    ys = np.array([func(x) for x in xs]) / norm_const\n",
    "    if polarity:\n",
    "        ax1.plot(xs, ys, color=colors[index], label=labels[index])\n",
    "    else:\n",
    "        ax1.plot(np.flip(xs), ys, color=colors[index], label=labels[index])\n",
    "\n",
    "ax1.plot(xs, stats.beta.pdf(xs, 3, 7), color=\"black\", label=\"Prior\")\n",
    "ax1.set_ylim(0,10)\n",
    "\n",
    "ax1.legend(frameon=False)\n",
    "\n",
    "# right plot\n",
    "\n",
    "cost, lamb = 0.2, 4\n",
    "alphas, colors = [0.1, 0.3, 0.4, 0.7], [\"red\", \"black\", \"green\", \"blue\"]\n",
    "for index in range(len(alphas)):\n",
    "    func = lambda theta: unnorm_pr_fixed_beta(theta, alphas[index], cost, lamb)\n",
    "    xs = np.linspace(0.001,1,1000)[1:-1]\n",
    "    ys_grid = [func(x) for x in xs]\n",
    "#     print(ys_grid)\n",
    "    norm_const = integrate.simps(ys_grid, xs)\n",
    "    \n",
    "    xs = np.linspace(0,1,1000)\n",
    "    ys = np.array([func(x) for x in xs]) / norm_const\n",
    "    ax2.plot(xs, ys, color=colors[index], label=str(alphas[index]))\n",
    "\n",
    "leg2 = ax2.legend(title=r\"$\\beta=1, \\alpha=$\", frameon=False)\n",
    "move_legend(leg2, ax2, 0.1)\n",
    "ax2.set_ylim(0,2.5)\n",
    "\n",
    "ax1.set_ylabel(\"Density\")\n",
    "\n",
    "for ax in [ax1, ax2]:\n",
    "    ax.set_xlabel(\"Degrees\")\n",
    "\n",
    "    for text in [\"top\", \"left\", \"right\"]:\n",
    "        ax.spines[text].set_visible(False)\n",
    "    ax.set_yticks([])\n",
    "\n",
    "w = 5.708\n",
    "fig.set_size_inches(w, w*0.6)\n",
    "plt.savefig(\"qingFranke2014.png\", dpi=300)"
   ]
  },
  {
   "cell_type": "markdown",
   "metadata": {},
   "source": [
    "## Beta distribution with $\\beta=1$"
   ]
  },
  {
   "cell_type": "markdown",
   "metadata": {},
   "source": [
    "Various useful bits:\n",
    "\n",
    "$$\n",
    "\\int_{0}^{\\Theta} \\phi (h)^2 dh = \\int_0^\\Theta \\alpha^2 x^{2\\alpha-2} dx = \\alpha^2 \\frac{\\Theta^{2\\alpha-1}}{2\\alpha-1} \\\\\n",
    "\\int_{\\Theta}^{1} \\phi (h)^2 dh = \\int_{\\Theta}^{1} \\alpha^2 x^{2\\alpha-2} dx = \\frac{\\alpha^2}{2\\alpha-1} - \\alpha^2 \\frac{\\Theta^{2\\alpha-1}}{2\\alpha-1} = \\frac{\\alpha^2 \\left( 1 - \\Theta^{2\\alpha-1} \\right)}{2\\alpha-1}\\\\\n",
    "\\int_{0}^{\\Theta} \\phi (h) dh = \\int_0^\\Theta \\alpha x^{\\alpha-1} dx = \\Theta^\\alpha \\\\\n",
    "\\int_{\\Theta}^{1} \\phi (h) dh = 1-\\int_0^\\Theta \\alpha x^{\\alpha-1} dx = 1-\\Theta^\\alpha \n",
    "$$\n",
    "\n",
    "Finally, ES:\n",
    "$$\n",
    "ES(\\Theta) = \\alpha^2 \\frac{\\Theta^{2\\alpha-1}}{2\\alpha-1} + \\frac{1}{1-\\Theta^\\alpha}\\frac{\\alpha^2 \\left( 1 - \\Theta^{2\\alpha-1} \\right)}{2\\alpha-1} - c (1 - \\Theta^\\alpha)\n",
    "$$"
   ]
  },
  {
   "cell_type": "code",
   "execution_count": 180,
   "metadata": {},
   "outputs": [],
   "source": [
    "def U_fixed_beta(theta, alpha, cost):\n",
    "    first_term = np.square(alpha)*(theta**(2*alpha-1)/(2*alpha-1))\n",
    "    second_term = (1/(1-theta**alpha))*((np.square(alpha)*(1-theta**(2*alpha-1)))/(2*alpha-1))\n",
    "    third_term = cost*(1-theta**alpha)\n",
    "    return first_term + second_term - third_term\n",
    "\n",
    "def unnorm_pr_fixed_beta(theta, alpha, cost, lamb):\n",
    "    return np.exp(lamb * U_fixed_beta(theta, alpha, cost))"
   ]
  },
  {
   "cell_type": "markdown",
   "metadata": {},
   "source": [
    "## Figure 4"
   ]
  },
  {
   "cell_type": "markdown",
   "metadata": {},
   "source": []
  },
  {
   "cell_type": "code",
   "execution_count": 217,
   "metadata": {},
   "outputs": [
    {
     "name": "stderr",
     "output_type": "stream",
     "text": [
      "C:\\Users\\s1569804\\AppData\\Local\\Continuum\\anaconda3\\envs\\computational_models\\lib\\site-packages\\ipykernel_launcher.py:2: RuntimeWarning: divide by zero encountered in double_scalars\n",
      "  \n",
      "C:\\Users\\s1569804\\AppData\\Local\\Continuum\\anaconda3\\envs\\computational_models\\lib\\site-packages\\ipykernel_launcher.py:3: RuntimeWarning: divide by zero encountered in double_scalars\n",
      "  This is separate from the ipykernel package so we can avoid doing imports until\n",
      "C:\\Users\\s1569804\\AppData\\Local\\Continuum\\anaconda3\\envs\\computational_models\\lib\\site-packages\\ipykernel_launcher.py:5: RuntimeWarning: invalid value encountered in double_scalars\n",
      "  \"\"\"\n",
      "C:\\Users\\s1569804\\AppData\\Local\\Continuum\\anaconda3\\envs\\computational_models\\lib\\site-packages\\ipykernel_launcher.py:3: RuntimeWarning: invalid value encountered in double_scalars\n",
      "  This is separate from the ipykernel package so we can avoid doing imports until\n"
     ]
    },
    {
     "data": {
      "image/png": "[encoded data removed]",
      "text/plain": [
       "<Figure size 410.976x205.488 with 2 Axes>"
      ]
     },
     "metadata": {
      "needs_background": "light"
     },
     "output_type": "display_data"
    }
   ],
   "source": [
    "fig, (ax1, ax2) = plt.subplots(1, 2)\n",
    "\n",
    "cost, lamb = 0.2, 4\n",
    "alphas, colors = [0.1, 0.3, 0.4, 0.7], [\"red\", \"black\", \"green\", \"blue\"]\n",
    "for index in range(len(alphas)):\n",
    "    func = lambda theta: unnorm_pr_fixed_beta(theta, alphas[index], cost, lamb)\n",
    "    xs = np.linspace(0.001,1,1000)[1:-1]\n",
    "    ys_grid = [func(x) for x in xs]\n",
    "#     print(ys_grid)\n",
    "    norm_const = integrate.simps(ys_grid, xs)\n",
    "    \n",
    "    xs = np.linspace(0,1,1000)\n",
    "    ys = np.array([func(x) for x in xs]) / norm_const\n",
    "    ax1.plot(xs, ys, color=colors[index], label=str(alphas[index]))\n",
    "\n",
    "legend = ax1.legend(title=r\"$\\beta=1, \\alpha=$\", frameon=False)\n",
    "move_legend(legend, ax1, 0.1)\n",
    "ax1.set_ylim(0,3)\n",
    "ax1.set_title(\"Cost=0.2\")\n",
    "ax1.set_xlabel(\"Degrees\")\n",
    "ax1.set_ylabel(\"Density of transition\")\n",
    "\n",
    "cost, lamb = 2, 4\n",
    "alphas, colors = [0.1, 0.3, 0.4, 0.7], [\"red\", \"black\", \"green\", \"blue\"]\n",
    "for index in range(len(alphas)):\n",
    "    func = lambda theta: unnorm_pr_fixed_beta(theta, alphas[index], cost, lamb)\n",
    "    xs = np.linspace(0.001,1,1000)[1:-1]\n",
    "    ys_grid = [func(x) for x in xs]\n",
    "#     print(ys_grid)\n",
    "    norm_const = integrate.simps(ys_grid, xs)\n",
    "    \n",
    "    xs = np.linspace(0,1,1000)\n",
    "    ys = np.array([func(x) for x in xs]) / norm_const\n",
    "    ax2.plot(xs, ys, color=colors[index], label=str(alphas[index]))\n",
    "\n",
    "ax2.legend(title=r\"$\\beta=1, \\alpha=$\", frameon=False)\n",
    "ax2.set_ylim(0,8)\n",
    "ax2.set_title(\"Cost=2\")\n",
    "ax2.set_xlabel(\"Degrees\")\n",
    "\n",
    "for ax in [ax1, ax2]:\n",
    "    for text in [\"top\", \"left\", \"right\"]:\n",
    "        ax.spines[text].set_visible(False)\n",
    "    ax.set_yticks([])\n",
    "\n",
    "w = 5.708\n",
    "fig.set_size_inches(w, w*0.5)\n",
    "plt.savefig(\"qingFranke2014Cost.png\", dpi=300)"
   ]
  }
 ],
 "metadata": {
  "kernelspec": {
   "display_name": "Python [conda env:computational_models] *",
   "language": "python",
   "name": "conda-env-computational_models-py"
  },
  "language_info": {
   "codemirror_mode": {
    "name": "ipython",
    "version": 3
   },
   "file_extension": ".py",
   "mimetype": "text/x-python",
   "name": "python",
   "nbconvert_exporter": "python",
   "pygments_lexer": "ipython3",
   "version": "3.7.3"
  }
 },
 "nbformat": 4,
 "nbformat_minor": 2
}
