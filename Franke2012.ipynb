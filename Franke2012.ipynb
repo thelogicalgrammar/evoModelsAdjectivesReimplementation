{
 "cells": [
  {
   "cell_type": "code",
   "execution_count": 5,
   "metadata": {},
   "outputs": [],
   "source": [
    "import numpy as np\n",
    "from scipy import special, stats\n",
    "import matplotlib.pyplot as plt\n",
    "import seaborn as sns"
   ]
  },
  {
   "cell_type": "code",
   "execution_count": 631,
   "metadata": {},
   "outputs": [],
   "source": [
    "dist_open_under = stats.norm(loc=0, scale=1/3)\n",
    "dist_open_pdf = dist_open_under.pdf\n",
    "dist_open = dist_open_under.rvs\n",
    "\n",
    "dist_closed_under = stats.uniform(0,1)\n",
    "dist_closed = dist_closed_under.rvs\n",
    "\n",
    "myclip_a = 0\n",
    "my_mean, my_std = 0.1, 1/3\n",
    "a = (myclip_a - my_mean) / my_std\n",
    "dist_halfopen_under = stats.truncnorm(a, b=np.inf, loc=my_mean, scale=my_std)\n",
    "dist_halfopen_pdf = dist_halfopen_under.pdf\n",
    "dist_halfopen = dist_halfopen_under.rvs"
   ]
  },
  {
   "cell_type": "code",
   "execution_count": 356,
   "metadata": {},
   "outputs": [],
   "source": [
    "def theoretical_optimal(context_shape):\n",
    "    num_obj, num_props = context_shape\n",
    "    \n",
    "    return np.min([1, (2*num_props)/num_obj])\n",
    "\n",
    "def create_context(context_size, num_properties_type):\n",
    "    \"\"\"\n",
    "    Like in Franke 2012 (On scales, etc.), 1/3 of properties of each type.\n",
    "    Return an array with shape (# objects, # properties)\n",
    "    \"\"\"\n",
    "    size=(context_size, num_properties_type)\n",
    "    context = np.column_stack((\n",
    "        dist_open(size),\n",
    "        dist_closed(size),\n",
    "        dist_halfopen(size)\n",
    "    ))\n",
    "    return context\n",
    "\n",
    "def calculate_salience(context):\n",
    "    \"\"\"\n",
    "    Calculates the salience of every object with respect to each property\n",
    "    \"\"\"\n",
    "    # first and second dimensions are both the objects\n",
    "    tiled_context = np.tile(context, reps=(len(context),1,1))\n",
    "    tiled_context_2 = np.tile(context[:,None,:], reps=(1, len(context), 1))\n",
    "    distances = np.abs(tiled_context - tiled_context_2)\n",
    "    saliences = np.sum(distances, axis=1)\n",
    "    return saliences"
   ]
  },
  {
   "cell_type": "code",
   "execution_count": 76,
   "metadata": {},
   "outputs": [
    {
     "name": "stdout",
     "output_type": "stream",
     "text": [
      "[[0.4 0.2 1.8]\n",
      " [0.7 0.3 1.2]\n",
      " [0.5 0.3 1. ]]\n"
     ]
    }
   ],
   "source": [
    "# this is the context from the paper\n",
    "context = np.array([\n",
    "    [0.2, -0.1, 1.3],\n",
    "    [-0.1, 0.0, 0.3],\n",
    "    [0.3, -0.2, 0.5]\n",
    "])\n",
    "\n",
    "print(calculate_salience(context))"
   ]
  },
  {
   "cell_type": "code",
   "execution_count": 452,
   "metadata": {},
   "outputs": [],
   "source": [
    "def communicate(context, salience, designated_object, print_output=False):\n",
    "    \n",
    "    # first decide for each object which signal to send\n",
    "    # the indices of the most salient property for each object (the first part of the potential signal)\n",
    "    most_salient_indices = np.argmax(salience, axis=1)\n",
    "    # the most salient property for each object (can only use np.choice up to 30 rows)\n",
    "    most_salient = context[range(len(most_salient_indices)), most_salient_indices]\n",
    "    # mean value of the properties across objects\n",
    "    median = np.median(context, axis=0)\n",
    "    # this is the polarity of the signal for each potential designated object, i.e. the second part of the message\n",
    "    polarity = (most_salient > median[most_salient_indices]).astype(int)\n",
    "\n",
    "    signal = (most_salient_indices[designated_object], polarity[designated_object])\n",
    "\n",
    "    # saliences of each object wrt the property indicated by the signal\n",
    "    saliences_objects = salience[:,signal[0]]\n",
    "    # degrees of all objects wrt the property indicated by the signal\n",
    "    prop = context[:, signal[0]]\n",
    "    # mask for which objects are compatible with the signal's polarity\n",
    "    indices_compatible_polarity = prop > median[signal[0]] if signal[1] else prop < median[signal[0]]\n",
    "    # find max of saliency among the objects compatible with the polarity\n",
    "    masked_saliences = np.where(indices_compatible_polarity, saliences_objects, 0)\n",
    "    picked = np.argmax(masked_saliences)\n",
    "\n",
    "    if print_output:\n",
    "        display(\"Context\", context)\n",
    "        display(\"salience\", salience)\n",
    "        display(\"most salient\", most_salient)\n",
    "        display(\"most_salient_indices\", most_salient_indices)\n",
    "        display(\"median\", median)\n",
    "        display(\"polarity\", polarity)\n",
    "        display(\"signal\", signal)\n",
    "        display(\"saliences_objects\", saliences_objects)\n",
    "        display(\"prop\", prop)\n",
    "        display(\"compatible\", indices_compatible_polarity)\n",
    "        display(\"masked_saliences\", masked_saliences)\n",
    "        display(\"picked\", picked)\n",
    "        display(\"designated\", designated_object)\n",
    "        print(\"\\n\\n\")\n",
    "    \n",
    "    # returns (whether successful, index property, value of property for object)\n",
    "    return picked == designated_object, signal[0], context[designated_object, signal[0]], "
   ]
  },
  {
   "cell_type": "code",
   "execution_count": 453,
   "metadata": {
    "scrolled": false
   },
   "outputs": [],
   "source": [
    "def run_single(context_size, num_prop_per_type, num_runs=500):\n",
    "    data = np.empty((num_runs, 3))\n",
    "    for i in range(num_runs):\n",
    "        designated_index = np.random.randint(context_size)\n",
    "        context = create_context(context_size, num_prop_per_type)\n",
    "        salience = calculate_salience(context)\n",
    "        data[i] = communicate(context, salience, designated_index)\n",
    "    return data"
   ]
  },
  {
   "cell_type": "markdown",
   "metadata": {},
   "source": [
    "# Plots from the paper\n",
    "\n",
    "## First plot"
   ]
  },
  {
   "cell_type": "code",
   "execution_count": 632,
   "metadata": {},
   "outputs": [],
   "source": [
    "num_properties_per_type_grid, num_objects_grid = np.mgrid[2:21, 2:21]\n",
    "success_rates = np.zeros(shape=(num_objects_grid.flatten().size, 3))\n",
    "for i, (num_properties_per_type, num_objects) in enumerate(\n",
    "        zip(num_properties_per_type_grid.flatten(), num_objects_grid.flatten())):\n",
    "    theo_max = theoretical_optimal((num_objects, num_properties_per_type*3))\n",
    "    success_rate = np.mean(run_single(num_objects, num_properties_per_type).T[0])\n",
    "    success_rates[i] = [num_objects, num_properties_per_type, success_rate/theo_max]"
   ]
  },
  {
   "cell_type": "code",
   "execution_count": 633,
   "metadata": {},
   "outputs": [],
   "source": [
    "X, Y, Z = success_rates.T\n",
    "\n",
    "prop_success_results = np.reshape(Z, num_objects_grid.shape)"
   ]
  },
  {
   "cell_type": "code",
   "execution_count": 634,
   "metadata": {},
   "outputs": [
    {
     "data": {
      "image/png": "[encoded data removed]",
      "text/plain": [
       "<Figure size 410.976x287.683 with 2 Axes>"
      ]
     },
     "metadata": {
      "needs_background": "light"
     },
     "output_type": "display_data"
    }
   ],
   "source": [
    "fig, ax = plt.subplots()\n",
    "\n",
    "cm = ax.pcolormesh(\n",
    "    num_properties_per_type_grid,\n",
    "    num_objects_grid, \n",
    "    prop_success_results,\n",
    "#     cmap=\"Greens\"\n",
    ")\n",
    "\n",
    "ax.set_xticks(np.linspace(10, 60, 6)/3)\n",
    "ax.set_xticklabels(np.linspace(10, 60, 6))\n",
    "\n",
    "cb = fig.colorbar(cm)\n",
    "\n",
    "ax.set_xlabel(\"Number of properties\")\n",
    "ax.set_ylabel(\"Context size\")\n",
    "\n",
    "cb.ax.set_ylabel(\"Proportion successful\", rotation=270, labelpad=15)\n",
    "\n",
    "w = 5.708\n",
    "fig.set_size_inches(w, w*0.7)\n",
    "plt.savefig(\"frankeSuccess.png\", dpi=300)"
   ]
  },
  {
   "cell_type": "markdown",
   "metadata": {},
   "source": [
    "## Second plot"
   ]
  },
  {
   "cell_type": "code",
   "execution_count": 602,
   "metadata": {},
   "outputs": [],
   "source": [
    "def second_plot(results, num_properties):    \n",
    "    \n",
    "    successful, prop_index, prop_value = results.T\n",
    "    \n",
    "    open_scale = prop_value[(prop_index < num_properties)]\n",
    "    closed_scale = prop_value[((prop_index >= num_properties) & (prop_index < num_properties*2))]\n",
    "    half_closed_scale = prop_value[(prop_index >= num_properties*2)]\n",
    "    \n",
    "    fig, (ax1, ax2, ax3) = plt.subplots(3, 1)\n",
    "\n",
    "    #### first ax\n",
    "\n",
    "    ax1.hist(open_scale, bins=100, ec=\"black\", density=True)\n",
    "\n",
    "    ax1_2 = ax1.twinx()\n",
    "    xs = np.linspace(-1.5, 1.5, 1000)\n",
    "    ys = dist_open_pdf(xs)\n",
    "    ax1_2.plot(xs, ys, color=\"green\")\n",
    "\n",
    "    #### second ax\n",
    "\n",
    "    ax2.hist(closed_scale, bins=100, ec=\"black\", density=True)\n",
    "\n",
    "    ax2_2 = ax2.twinx()\n",
    "    ax2_2.plot([0,1], [1,1], color=\"green\")\n",
    "\n",
    "    #### third ax\n",
    "\n",
    "    ax3.hist(half_closed_scale, bins=60, ec=\"black\", density=True)\n",
    "\n",
    "    ax3_2 = ax3.twinx()\n",
    "    xs = np.linspace(0, 2.5, 1000)\n",
    "    ys = dist_halfopen_pdf(xs)\n",
    "    ax3_2.plot(xs, ys, color=\"green\")\n",
    "    \n",
    "    for axis in [ax1_2, ax2_2, ax3_2]:\n",
    "        axis.tick_params(axis='y', colors='green')\n",
    "    \n",
    "    ax3.set_xlabel(\"Degrees\")\n",
    "    ax2.set_ylabel(\"Densities\")\n",
    "\n",
    "    fig.subplots_adjust(hspace=0.4)\n",
    "\n",
    "    return fig, (ax1, ax2, ax3)"
   ]
  },
  {
   "cell_type": "code",
   "execution_count": 635,
   "metadata": {},
   "outputs": [],
   "source": [
    "num_properties_per_type = 8\n",
    "context_size = 30\n",
    "results = run_single(context_size, num_properties_per_type, num_runs=5000)"
   ]
  },
  {
   "cell_type": "code",
   "execution_count": 636,
   "metadata": {},
   "outputs": [
    {
     "data": {
      "image/png": "[encoded data removed]",
      "text/plain": [
       "<Figure size 410.976x287.683 with 6 Axes>"
      ]
     },
     "metadata": {
      "needs_background": "light"
     },
     "output_type": "display_data"
    }
   ],
   "source": [
    "fig, axes = second_plot(results, num_properties_per_type)\n",
    "\n",
    "w = 5.708\n",
    "fig.set_size_inches(w, w*0.7)\n",
    "plt.savefig(\"frankeSamples.png\", dpi=300)"
   ]
  }
 ],
 "metadata": {
  "kernelspec": {
   "display_name": "Python [conda env:computational_models] *",
   "language": "python",
   "name": "conda-env-computational_models-py"
  },
  "language_info": {
   "codemirror_mode": {
    "name": "ipython",
    "version": 3
   },
   "file_extension": ".py",
   "mimetype": "text/x-python",
   "name": "python",
   "nbconvert_exporter": "python",
   "pygments_lexer": "ipython3",
   "version": "3.7.3"
  }
 },
 "nbformat": 4,
 "nbformat_minor": 2
}
